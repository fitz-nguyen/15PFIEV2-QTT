{
 "cells": [
  {
   "cell_type": "code",
   "execution_count": 2,
   "metadata": {},
   "outputs": [],
   "source": [
    "from bs4 import BeautifulSoup\n",
    "import urllib.request\n",
    "import re\n",
    "import csv\n",
    "\n",
    "\n",
    "def not_relative_uri(href):\n",
    "    return re.compile('^https://').search(href) is not None\n",
    "\n",
    "\n",
    "url = 'https://www.24h.com.vn/'\n",
    "page = urllib.request.urlopen(url)\n",
    "soup = BeautifulSoup(page, 'html.parser')\n",
    "\n",
    "new_feeds = soup.find(\n",
    "    'body').find_all(\n",
    "        'a', class_='', href=not_relative_uri)\n",
    "\n",
    "with open('data24h.csv', 'w') as csv_file:\n",
    "    writer = csv.writer(csv_file)\n",
    "    writer.writerow(['Title', 'Link'])\n",
    "    for feed in new_feeds:\n",
    "        writer.writerow([feed.get('title'), feed.get('href')])\n"
   ]
  },
  {
   "cell_type": "code",
   "execution_count": null,
   "metadata": {},
   "outputs": [],
   "source": []
  }
 ],
 "metadata": {
  "kernelspec": {
   "display_name": "Python 3",
   "language": "python",
   "name": "python3"
  },
  "language_info": {
   "codemirror_mode": {
    "name": "ipython",
    "version": 3
   },
   "file_extension": ".py",
   "mimetype": "text/x-python",
   "name": "python",
   "nbconvert_exporter": "python",
   "pygments_lexer": "ipython3",
   "version": "3.7.2"
  }
 },
 "nbformat": 4,
 "nbformat_minor": 2
}
